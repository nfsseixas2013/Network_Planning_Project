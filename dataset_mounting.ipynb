{
 "cells": [
  {
   "cell_type": "code",
   "execution_count": 1,
   "id": "a412b35b",
   "metadata": {},
   "outputs": [],
   "source": [
    "import pandas as pd\n",
    "import glob"
   ]
  },
  {
   "cell_type": "code",
   "execution_count": 2,
   "id": "4d5255d5",
   "metadata": {},
   "outputs": [],
   "source": [
    "# The idea is load and treat 60 days of the big data Italia to use as dataset training and test.\n",
    "\n",
    "folder_path = '/home/nilton/Arquivos/Datasets/dataverse_files'\n",
    "file_list = glob.glob(folder_path + \"/*.txt\")"
   ]
  },
  {
   "cell_type": "code",
   "execution_count": 3,
   "id": "e3d97f64",
   "metadata": {},
   "outputs": [
    {
     "data": {
      "text/plain": [
       "['/home/nilton/Arquivos/Datasets/dataverse_files/sms-call-internet-mi-2013-11-14.txt',\n",
       " '/home/nilton/Arquivos/Datasets/dataverse_files/sms-call-internet-mi-2013-12-04.txt',\n",
       " '/home/nilton/Arquivos/Datasets/dataverse_files/sms-call-internet-mi-2013-12-27.txt',\n",
       " '/home/nilton/Arquivos/Datasets/dataverse_files/sms-call-internet-mi-2013-12-21.txt',\n",
       " '/home/nilton/Arquivos/Datasets/dataverse_files/sms-call-internet-mi-2013-11-09.txt',\n",
       " '/home/nilton/Arquivos/Datasets/dataverse_files/sms-call-internet-mi-2013-12-08.txt',\n",
       " '/home/nilton/Arquivos/Datasets/dataverse_files/sms-call-internet-mi-2013-11-15.txt',\n",
       " '/home/nilton/Arquivos/Datasets/dataverse_files/sms-call-internet-mi-2013-11-02.txt',\n",
       " '/home/nilton/Arquivos/Datasets/dataverse_files/sms-call-internet-mi-2013-12-25.txt',\n",
       " '/home/nilton/Arquivos/Datasets/dataverse_files/sms-call-internet-mi-2013-12-20.txt',\n",
       " '/home/nilton/Arquivos/Datasets/dataverse_files/sms-call-internet-mi-2013-11-19.txt',\n",
       " '/home/nilton/Arquivos/Datasets/dataverse_files/sms-call-internet-mi-2013-11-13.txt',\n",
       " '/home/nilton/Arquivos/Datasets/dataverse_files/sms-call-internet-mi-2013-11-23.txt',\n",
       " '/home/nilton/Arquivos/Datasets/dataverse_files/sms-call-internet-mi-2013-11-18.txt',\n",
       " '/home/nilton/Arquivos/Datasets/dataverse_files/sms-call-internet-mi-2013-11-20.txt',\n",
       " '/home/nilton/Arquivos/Datasets/dataverse_files/sms-call-internet-mi-2013-11-17.txt',\n",
       " '/home/nilton/Arquivos/Datasets/dataverse_files/sms-call-internet-mi-2013-11-22.txt',\n",
       " '/home/nilton/Arquivos/Datasets/dataverse_files/sms-call-internet-mi-2013-11-11.txt',\n",
       " '/home/nilton/Arquivos/Datasets/dataverse_files/sms-call-internet-mi-2013-12-03.txt',\n",
       " '/home/nilton/Arquivos/Datasets/dataverse_files/sms-call-internet-mi-2013-12-16.txt',\n",
       " '/home/nilton/Arquivos/Datasets/dataverse_files/sms-call-internet-mi-2013-12-10.txt',\n",
       " '/home/nilton/Arquivos/Datasets/dataverse_files/sms-call-internet-mi-2013-11-05.txt',\n",
       " '/home/nilton/Arquivos/Datasets/dataverse_files/sms-call-internet-mi-2013-12-17.txt',\n",
       " '/home/nilton/Arquivos/Datasets/dataverse_files/sms-call-internet-mi-2013-12-28.txt',\n",
       " '/home/nilton/Arquivos/Datasets/dataverse_files/sms-call-internet-mi-2013-12-23.txt',\n",
       " '/home/nilton/Arquivos/Datasets/dataverse_files/sms-call-internet-mi-2013-11-12.txt',\n",
       " '/home/nilton/Arquivos/Datasets/dataverse_files/sms-call-internet-mi-2013-12-18.txt',\n",
       " '/home/nilton/Arquivos/Datasets/dataverse_files/sms-call-internet-mi-2013-12-01.txt',\n",
       " '/home/nilton/Arquivos/Datasets/dataverse_files/sms-call-internet-mi-2013-11-01.txt',\n",
       " '/home/nilton/Arquivos/Datasets/dataverse_files/sms-call-internet-mi-2013-11-26.txt',\n",
       " '/home/nilton/Arquivos/Datasets/dataverse_files/sms-call-internet-mi-2013-12-02.txt',\n",
       " '/home/nilton/Arquivos/Datasets/dataverse_files/sms-call-internet-mi-2013-11-04.txt',\n",
       " '/home/nilton/Arquivos/Datasets/dataverse_files/sms-call-internet-mi-2013-11-29.txt',\n",
       " '/home/nilton/Arquivos/Datasets/dataverse_files/sms-call-internet-mi-2013-11-10.txt',\n",
       " '/home/nilton/Arquivos/Datasets/dataverse_files/sms-call-internet-mi-2013-12-15.txt',\n",
       " '/home/nilton/Arquivos/Datasets/dataverse_files/sms-call-internet-mi-2013-11-21.txt',\n",
       " '/home/nilton/Arquivos/Datasets/dataverse_files/sms-call-internet-mi-2013-12-24.txt',\n",
       " '/home/nilton/Arquivos/Datasets/dataverse_files/sms-call-internet-mi-2013-12-29.txt',\n",
       " '/home/nilton/Arquivos/Datasets/dataverse_files/sms-call-internet-mi-2013-12-14.txt',\n",
       " '/home/nilton/Arquivos/Datasets/dataverse_files/sms-call-internet-mi-2013-11-03.txt',\n",
       " '/home/nilton/Arquivos/Datasets/dataverse_files/sms-call-internet-mi-2013-11-06.txt',\n",
       " '/home/nilton/Arquivos/Datasets/dataverse_files/sms-call-internet-mi-2013-11-24.txt',\n",
       " '/home/nilton/Arquivos/Datasets/dataverse_files/sms-call-internet-mi-2013-11-28.txt',\n",
       " '/home/nilton/Arquivos/Datasets/dataverse_files/sms-call-internet-mi-2013-12-11.txt',\n",
       " '/home/nilton/Arquivos/Datasets/dataverse_files/sms-call-internet-mi-2013-11-27.txt',\n",
       " '/home/nilton/Arquivos/Datasets/dataverse_files/sms-call-internet-mi-2013-12-12.txt',\n",
       " '/home/nilton/Arquivos/Datasets/dataverse_files/sms-call-internet-mi-2013-12-19.txt',\n",
       " '/home/nilton/Arquivos/Datasets/dataverse_files/sms-call-internet-mi-2013-12-13.txt',\n",
       " '/home/nilton/Arquivos/Datasets/dataverse_files/sms-call-internet-mi-2013-11-16.txt',\n",
       " '/home/nilton/Arquivos/Datasets/dataverse_files/sms-call-internet-mi-2013-12-06.txt',\n",
       " '/home/nilton/Arquivos/Datasets/dataverse_files/sms-call-internet-mi-2013-12-22.txt',\n",
       " '/home/nilton/Arquivos/Datasets/dataverse_files/sms-call-internet-mi-2013-12-07.txt',\n",
       " '/home/nilton/Arquivos/Datasets/dataverse_files/sms-call-internet-mi-2013-11-25.txt',\n",
       " '/home/nilton/Arquivos/Datasets/dataverse_files/sms-call-internet-mi-2013-12-05.txt',\n",
       " '/home/nilton/Arquivos/Datasets/dataverse_files/sms-call-internet-mi-2013-12-09.txt',\n",
       " '/home/nilton/Arquivos/Datasets/dataverse_files/sms-call-internet-mi-2013-11-30.txt',\n",
       " '/home/nilton/Arquivos/Datasets/dataverse_files/sms-call-internet-mi-2013-11-08.txt',\n",
       " '/home/nilton/Arquivos/Datasets/dataverse_files/sms-call-internet-mi-2013-11-07.txt',\n",
       " '/home/nilton/Arquivos/Datasets/dataverse_files/sms-call-internet-mi-2013-12-26.txt']"
      ]
     },
     "execution_count": 3,
     "metadata": {},
     "output_type": "execute_result"
    }
   ],
   "source": [
    "file_list"
   ]
  },
  {
   "cell_type": "code",
   "execution_count": 4,
   "id": "20274670",
   "metadata": {},
   "outputs": [],
   "source": [
    "def convert_time(dataset2):\n",
    "    dataset = dataset2.copy()\n",
    "    minuto = 0.0\n",
    "    hora = 0.0\n",
    "    horario = 0.0\n",
    "    anterior = dataset.iloc[0,0]\n",
    "    for i in range(0,dataset.shape[0]):\n",
    "        if dataset.iloc[i,0] == anterior:\n",
    "            horario = minuto + hora\n",
    "            dataset.iat[i,1] = horario\n",
    "            minuto += 0.10\n",
    "            if minuto == 0.60:\n",
    "                minuto = 0.0\n",
    "                hora += 1.0\n",
    "        else:\n",
    "            horario = 0.0\n",
    "            minuto = 0.0\n",
    "            hora = 0.0\n",
    "            dataset.iat[i,1] = horario\n",
    "            minuto += 0.10\n",
    "        anterior = dataset.iloc[i,0]\n",
    "    return dataset"
   ]
  },
  {
   "cell_type": "code",
   "execution_count": 5,
   "id": "be9939f1",
   "metadata": {},
   "outputs": [],
   "source": [
    "# Other lambda functions used to transform fronthaul_traffic\n",
    "fronthaul_band = lambda x: x*(100/20)*(8/6)*(8/2) # X in Mbps\n",
    "Gbps_Mbps = lambda x: x*1000\n",
    "Mbps_Gbps = lambda x: x/1000"
   ]
  },
  {
   "cell_type": "code",
   "execution_count": 11,
   "id": "ce5db436",
   "metadata": {},
   "outputs": [],
   "source": [
    "# We need to apply every change we did in order to save memory and cpu before concatenate the datasets.\n",
    "\n",
    "def applying_changes(dataset2):\n",
    "    dataset = dataset2.copy()\n",
    "    dataset.columns = ['Square_id', 'Time_Interval', 'Country_code', 'SMS_in', \n",
    "                'SMS_out', 'Call-in', 'Call-out', 'Internet']\n",
    "    squares = [5161, 5059, 5758, 5955, 5061, 5262, 4857, 5162, 4755, 5458, 4654, 4856]\n",
    "    dataset = dataset[dataset['Square_id'].isin(squares)]\n",
    "    dataset = dataset.drop(['SMS_in', 'SMS_out', 'Call-in', 'Call-out'], axis = 1)\n",
    "    dataset = dataset[dataset['Country_code'] == 39]\n",
    "    dataset['Internet'].interpolate(method ='linear')\n",
    "    dataset['Traffic_MB'] = dataset['Internet']*5000\n",
    "    dataset['Traffic_Gbps'] = dataset['Traffic_MB']/(125*600)\n",
    "    dataset['Traffic_Mbps'] = list(map(Gbps_Mbps,dataset['Traffic_Gbps']))\n",
    "    dataset['Traffic_fronthaul'] = list(map(fronthaul_band,dataset['Traffic_Mbps']))\n",
    "    dataset['Fronthaul_Gbps'] = list(map(Mbps_Gbps,dataset['Traffic_fronthaul']))\n",
    "    dataset = convert_time(dataset)\n",
    "    dataset = dataset.groupby(['Time_Interval'])['Fronthaul_Gbps'].sum().reset_index()\n",
    "    return dataset"
   ]
  },
  {
   "cell_type": "code",
   "execution_count": 16,
   "id": "cdb135d5",
   "metadata": {},
   "outputs": [],
   "source": [
    "main_dataframe = pd.DataFrame(pd.read_csv(file_list[30],sep = '\\t', header = None))\n",
    "main_dataframe = applying_changes(main_dataframe)\n"
   ]
  },
  {
   "cell_type": "code",
   "execution_count": 17,
   "id": "f6107109",
   "metadata": {},
   "outputs": [
    {
     "data": {
      "text/html": [
       "<div>\n",
       "<style scoped>\n",
       "    .dataframe tbody tr th:only-of-type {\n",
       "        vertical-align: middle;\n",
       "    }\n",
       "\n",
       "    .dataframe tbody tr th {\n",
       "        vertical-align: top;\n",
       "    }\n",
       "\n",
       "    .dataframe thead th {\n",
       "        text-align: right;\n",
       "    }\n",
       "</style>\n",
       "<table border=\"1\" class=\"dataframe\">\n",
       "  <thead>\n",
       "    <tr style=\"text-align: right;\">\n",
       "      <th></th>\n",
       "      <th>Time_Interval</th>\n",
       "      <th>Fronthaul_Gbps</th>\n",
       "    </tr>\n",
       "  </thead>\n",
       "  <tbody>\n",
       "    <tr>\n",
       "      <th>0</th>\n",
       "      <td>0.0</td>\n",
       "      <td>10815.173381</td>\n",
       "    </tr>\n",
       "    <tr>\n",
       "      <th>1</th>\n",
       "      <td>0.1</td>\n",
       "      <td>10742.386063</td>\n",
       "    </tr>\n",
       "    <tr>\n",
       "      <th>2</th>\n",
       "      <td>0.2</td>\n",
       "      <td>10610.969802</td>\n",
       "    </tr>\n",
       "    <tr>\n",
       "      <th>3</th>\n",
       "      <td>0.3</td>\n",
       "      <td>12007.490774</td>\n",
       "    </tr>\n",
       "    <tr>\n",
       "      <th>4</th>\n",
       "      <td>0.4</td>\n",
       "      <td>9702.333183</td>\n",
       "    </tr>\n",
       "  </tbody>\n",
       "</table>\n",
       "</div>"
      ],
      "text/plain": [
       "   Time_Interval  Fronthaul_Gbps\n",
       "0            0.0    10815.173381\n",
       "1            0.1    10742.386063\n",
       "2            0.2    10610.969802\n",
       "3            0.3    12007.490774\n",
       "4            0.4     9702.333183"
      ]
     },
     "execution_count": 17,
     "metadata": {},
     "output_type": "execute_result"
    }
   ],
   "source": [
    "main_dataframe.head()"
   ]
  },
  {
   "cell_type": "code",
   "execution_count": 18,
   "id": "78b2b22d",
   "metadata": {},
   "outputs": [],
   "source": [
    "# Here we load, treat, and concatenate the datasets\n",
    "for i in range(30,len(file_list)):\n",
    "    data = pd.read_csv(file_list[i],sep = '\\t', header = None)\n",
    "    data = applying_changes(data)\n",
    "    main_dataframe = pd.concat([main_dataframe,data],axis=0)"
   ]
  },
  {
   "cell_type": "code",
   "execution_count": 19,
   "id": "3d5b48ee",
   "metadata": {},
   "outputs": [],
   "source": [
    "# This is teh second part, however, the same code must be used to produce part 1. The range would be (1,30)\n",
    "main_dataframe.to_csv('main_pt2.csv')"
   ]
  },
  {
   "cell_type": "code",
   "execution_count": null,
   "id": "fc924eb9",
   "metadata": {},
   "outputs": [],
   "source": []
  }
 ],
 "metadata": {
  "kernelspec": {
   "display_name": "Python 3 (ipykernel)",
   "language": "python",
   "name": "python3"
  },
  "language_info": {
   "codemirror_mode": {
    "name": "ipython",
    "version": 3
   },
   "file_extension": ".py",
   "mimetype": "text/x-python",
   "name": "python",
   "nbconvert_exporter": "python",
   "pygments_lexer": "ipython3",
   "version": "3.7.7"
  }
 },
 "nbformat": 4,
 "nbformat_minor": 5
}
